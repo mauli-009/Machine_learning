{
  "nbformat": 4,
  "nbformat_minor": 0,
  "metadata": {
    "colab": {
      "provenance": []
    },
    "kernelspec": {
      "name": "python3",
      "display_name": "Python 3"
    },
    "language_info": {
      "name": "python"
    }
  },
  "cells": [
    {
      "cell_type": "markdown",
      "source": [
        "File Import And Read File\n"
      ],
      "metadata": {
        "id": "6ZMohN5qMQB-"
      }
    },
    {
      "cell_type": "code",
      "execution_count": 56,
      "metadata": {
        "colab": {
          "base_uri": "https://localhost:8080/"
        },
        "id": "pJ-KLBgyKHyE",
        "outputId": "d3777167-0259-42c2-ea96-34908e07a08e"
      },
      "outputs": [
        {
          "output_type": "stream",
          "name": "stdout",
          "text": [
            "        AT      V       AP     RH      PE\n",
            "5    16.75  42.23  1013.81  84.98  464.87\n",
            "6    21.47  58.79  1017.00  76.97  446.33\n",
            "7    25.98  68.12  1011.36  66.86  439.00\n",
            "8    16.34  36.99  1006.99  90.06  466.24\n",
            "9    25.23  69.34  1009.51  82.87  445.92\n",
            "..     ...    ...      ...    ...     ...\n",
            "115   6.02  43.65  1013.85  83.53  481.92\n",
            "116  30.05  56.90  1007.02  41.96  437.55\n",
            "117  29.23  68.14  1004.31  81.46  428.87\n",
            "118  26.03  64.44  1012.75  62.24  445.89\n",
            "119  26.38  49.50  1012.82  37.19  457.81\n",
            "\n",
            "[115 rows x 5 columns]\n",
            "the mean of the data of the col1 is 1013.4903478260869\n",
            "the mean of the data of the col2 is 455.1640869565217\n",
            "the median of the data of the col1 is 1012.75\n",
            "the median of the data of the col2 is 452.82\n"
          ]
        }
      ],
      "source": [
        "from scipy.stats import ttest_ind\n",
        "from scipy.stats import t,f\n",
        "from scipy.stats import chi2_contingency\n",
        "import matplotlib.pyplot as plt\n",
        "from sklearn.linear_model import LinearRegression\n",
        "from scipy import stats\n",
        "import pandas as pd\n",
        "import numpy as np\n",
        "\n",
        "# Correct file path\n",
        "file_path = '/content/Dataset_psp.xlsx'\n",
        "\n",
        "# Load the dataset\n",
        "data = pd.read_excel(file_path)\n",
        "\n",
        "# Display the first few rows of the dataset\n",
        "# print(data.head(15))\n",
        "data_dropped = data.dropna(how='all')\n",
        "print(data_dropped)\n",
        "col1=data_dropped['AP']\n",
        "col2=data_dropped['PE']\n",
        "col1=col1.dropna()\n",
        "col2=col2.dropna()\n",
        "\n",
        "#finding the mean ,median and mode\n",
        "print(f\"the mean of the data of the col1 is {np.mean(col1)}\")\n",
        "print(f\"the mean of the data of the col2 is {np.mean(col2)}\")\n",
        "print(f\"the median of the data of the col1 is {np.median(col1)}\")\n",
        "print(f\"the median of the data of the col2 is {np.median(col2)}\")\n"
      ]
    },
    {
      "cell_type": "markdown",
      "source": [
        "Applying the T test on the data\n"
      ],
      "metadata": {
        "id": "lrd7yqUQMZg4"
      }
    },
    {
      "cell_type": "code",
      "source": [
        "\n",
        "#perform the independent ttest on the the both dataset\n",
        "t_stat,p_val=ttest_ind(col1,col2)\n",
        "#taking input neceesary terms to calculate t statistic and crtical\n",
        "alpha=int(input(\"Enter signicance level for test(in percentage): \"))\n",
        "alpha=alpha/100\n",
        "df=int(input(\"Enter no of Objects(n): \"))\n",
        "df=df-1\n",
        "null_hyo=input(\"Enter NULL hypotesis: \")\n",
        "alternate_hypo=input(\"Enter Alternate hypotesis: \")\n",
        "tail=int(input(\"Enter tail: \"))\n",
        "#printing the crtical and statical value of t\n",
        "print(\"T-statistic:\", t_stat)\n",
        "print(\"P-value:\", p_val)\n",
        "if(tail==2):\n",
        "  t_critical = t.ppf(1 - alpha/2, df)\n",
        "\n",
        "\n",
        "else:\n",
        "  t_critical= t.ppf(1 - alpha, df)\n",
        "print(f\"t crtical for  {alpha} significance level { t_critical}\")\n",
        "#comparing t stiastic and crtical to find validite of null hypothesis\n",
        "if(t_critical<t_stat):\n",
        "    print(\"we will reject the null hypothesis\")\n",
        "\n",
        "else:\n",
        "  print(\"we fail to reject the null hypothesis\")\n"
      ],
      "metadata": {
        "colab": {
          "base_uri": "https://localhost:8080/"
        },
        "id": "ILw1LcG4MNDd",
        "outputId": "7e2865de-2e69-45d2-b6b6-df28f96eb7af"
      },
      "execution_count": 46,
      "outputs": [
        {
          "output_type": "stream",
          "name": "stdout",
          "text": [
            "Enter signicance level for test(in percentage): 5\n",
            "Enter no of Objects(n): 10\n",
            "Enter NULL hypotesis: xyz\n",
            "Enter Alternate hypotesis: acg\n",
            "Enter tail: 2\n",
            "T-statistic: 311.81023608376734\n",
            "P-value: 6.376791873359175e-302\n",
            "t crtical for  0.05 significance level 2.2621571628540993\n",
            "we will reject the null hypothesis\n"
          ]
        }
      ]
    },
    {
      "cell_type": "markdown",
      "source": [
        "T test for the pair testing\n"
      ],
      "metadata": {
        "id": "GvDzFgnwbWfT"
      }
    },
    {
      "cell_type": "code",
      "source": [
        "# Perform the independent two-sample t-test\n",
        "t_stat1, p_val1 = ttest_ind(col1, col2)\n",
        "\n",
        "# Taking input for significance level and hypotheses\n",
        "alpha2 = int(input(\"Enter significance level for test (in percentage): \"))\n",
        "alpha2 = alpha2 / 100\n",
        "\n",
        "null_hyo = input(\"Enter NULL hypothesis: \")\n",
        "alternate_hypo = input(\"Enter Alternative hypothesis: \")\n",
        "\n",
        "# Print the t-statistic and p-value\n",
        "print(\"T-statistic:\", t_stat1)\n",
        "print(\"P-value:\", p_val1)\n",
        "\n",
        "# Compare the p-value to the significance level to make a decision\n",
        "if p_val1 < alpha2:\n",
        "    print(\"Reject the null hypothesis: There is a significant difference between the two groups.\")\n",
        "else:\n",
        "    print(\"Fail to reject the null hypothesis: There is no significant difference between the two groups.\")"
      ],
      "metadata": {
        "colab": {
          "base_uri": "https://localhost:8080/"
        },
        "id": "W1SjyoQsbVS-",
        "outputId": "4170ccc6-b4b6-4487-8087-d634f3411432"
      },
      "execution_count": 42,
      "outputs": [
        {
          "output_type": "stream",
          "name": "stdout",
          "text": [
            "Enter significance level for test (in percentage): 5\n",
            "Enter NULL hypothesis: cvg\n",
            "Enter Alternative hypothesis: xyz\n",
            "T-statistic: 311.81023608376734\n",
            "P-value: 6.376791873359175e-302\n",
            "Reject the null hypothesis: There is a significant difference between the two groups.\n"
          ]
        }
      ]
    },
    {
      "cell_type": "code",
      "source": [],
      "metadata": {
        "id": "2xn57VZXckTM"
      },
      "execution_count": null,
      "outputs": []
    },
    {
      "cell_type": "markdown",
      "source": [
        "f test\n"
      ],
      "metadata": {
        "id": "RWIOM5WrabKu"
      }
    },
    {
      "cell_type": "code",
      "source": [
        "# Taking input for necessary terms to calculate F-statistic and critical value\n",
        "alpha1 = int(input(\"Enter significance level for test (in percentage): \"))\n",
        "alpha1 = alpha1 / 100\n",
        "n1 = len(col1)\n",
        "n2 = len(col2)\n",
        "df1 = n1 - 1\n",
        "df2 = n2 - 1\n",
        "\n",
        "# Input hypotheses\n",
        "null_hypo = input(\"Enter NULL hypothesis: \")\n",
        "alternate_hypo = input(\"Enter Alternative hypothesis: \")\n",
        "\n",
        "# Print the F-statistic and calculate F-critical\n",
        "var_col1 = col1.var()\n",
        "var_col2 = col2.var()\n",
        "f_stat = var_col1 / var_col2\n",
        "\n",
        "# F-test: Calculate F-critical value\n",
        "f_critical = f.ppf(1 - alpha1, df1, df2)\n",
        "print(f\"F-statistic: {f_stat:.2f}\")\n",
        "print(f\"F-critical value: {f_critical:.2f}\")\n",
        "\n",
        "# Comparing F-statistic and F-critical to test the hypothesis\n",
        "if f_stat > f_critical:\n",
        "    print(\"Reject the null hypothesis: The variances are significantly different.\")\n",
        "else:\n",
        "    print(\"Fail to reject the null hypothesis: The variances are not significantly different.\")"
      ],
      "metadata": {
        "colab": {
          "base_uri": "https://localhost:8080/"
        },
        "id": "31qdu54Laf2S",
        "outputId": "33203351-e7ef-4c8b-d219-70e2e1a44ea3"
      },
      "execution_count": 39,
      "outputs": [
        {
          "output_type": "stream",
          "name": "stdout",
          "text": [
            "Enter significance level for test (in percentage): 5\n",
            "Enter NULL hypothesis: cvg\n",
            "Enter Alternative hypothesis: xyz\n",
            "F-statistic: 0.11\n",
            "F-critical value: 1.36\n",
            "Fail to reject the null hypothesis: The variances are not significantly different.\n"
          ]
        }
      ]
    },
    {
      "cell_type": "markdown",
      "source": [
        "chi_squared test"
      ],
      "metadata": {
        "id": "Nq2VCNVqclTr"
      }
    },
    {
      "cell_type": "code",
      "source": [
        "# Create a contingency table (cross-tabulation of the two columns)\n",
        "contingency_table = pd.crosstab(col1, col2)\n",
        "\n",
        "# Display the contingency table\n",
        "print(\"Contingency Table:\\n\", contingency_table)\n",
        "\n",
        "# Perform the Chi-Square Test of Independence\n",
        "chi2_stat, p_val, dof, expected = chi2_contingency(contingency_table)\n",
        "\n",
        "# Print the results\n",
        "print(\"\\nChi-Square Statistic:\", chi2_stat)\n",
        "print(\"P-value:\", p_val)\n",
        "print(\"Degrees of Freedom:\", dof)\n",
        "print(\"Expected Frequencies:\\n\", expected)\n",
        "\n",
        "# Significance level (alpha)\n",
        "alpha = 0.05  # Typical significance level\n",
        "\n",
        "# Compare the p-value with the significance level\n",
        "if p_val < alpha:\n",
        "    print(\"\\nReject the null hypothesis: There is an association between col1 and col2.\")\n",
        "else:\n",
        "    print(\"\\nFail to reject the null hypothesis: There is no association between col1 and col2.\")\n"
      ],
      "metadata": {
        "colab": {
          "base_uri": "https://localhost:8080/"
        },
        "id": "7lo-BYc3cpfX",
        "outputId": "0118127b-2773-4aa0-b8ff-025f1bc2c8a7"
      },
      "execution_count": 45,
      "outputs": [
        {
          "output_type": "stream",
          "name": "stdout",
          "text": [
            "Contingency Table:\n",
            " PE       425.35  428.08  428.72  428.87  429.28  429.31  429.86  430.15  \\\n",
            "AP                                                                        \n",
            "998.47        0       0       0       0       0       0       0       0   \n",
            "1001.96       0       0       0       0       0       0       0       0   \n",
            "1003.72       0       0       0       0       0       0       0       1   \n",
            "1003.86       0       0       0       0       0       0       0       0   \n",
            "1004.31       0       0       0       1       0       0       0       0   \n",
            "...         ...     ...     ...     ...     ...     ...     ...     ...   \n",
            "1025.89       0       0       0       0       0       0       0       0   \n",
            "1028.46       0       0       0       0       0       0       0       0   \n",
            "1028.68       0       0       0       0       0       0       0       0   \n",
            "1028.86       0       0       0       0       0       0       0       0   \n",
            "1030.72       0       0       0       0       0       0       0       0   \n",
            "\n",
            "PE       430.46  431.18  ...  482.39  483.14  483.26  483.77  483.83  484.42  \\\n",
            "AP                       ...                                                   \n",
            "998.47        0       0  ...       0       0       0       0       0       0   \n",
            "1001.96       0       0  ...       0       0       0       0       0       0   \n",
            "1003.72       0       0  ...       0       0       0       0       0       0   \n",
            "1003.86       0       0  ...       0       0       0       0       0       0   \n",
            "1004.31       0       0  ...       0       0       0       0       0       0   \n",
            "...         ...     ...  ...     ...     ...     ...     ...     ...     ...   \n",
            "1025.89       0       0  ...       0       0       0       0       0       0   \n",
            "1028.46       0       0  ...       0       0       0       0       0       0   \n",
            "1028.68       0       0  ...       0       0       0       1       0       0   \n",
            "1028.86       0       0  ...       0       0       0       0       0       0   \n",
            "1030.72       0       0  ...       0       0       0       0       0       0   \n",
            "\n",
            "PE       485.58  485.61  487.71  490.23  \n",
            "AP                                       \n",
            "998.47        0       0       0       0  \n",
            "1001.96       0       0       0       0  \n",
            "1003.72       0       0       0       0  \n",
            "1003.86       0       0       0       0  \n",
            "1004.31       0       0       0       0  \n",
            "...         ...     ...     ...     ...  \n",
            "1025.89       0       0       0       0  \n",
            "1028.46       0       0       0       0  \n",
            "1028.68       0       0       0       0  \n",
            "1028.86       0       0       0       0  \n",
            "1030.72       0       0       0       0  \n",
            "\n",
            "[112 rows x 114 columns]\n",
            "\n",
            "Chi-Square Statistic: 12650.000000000002\n",
            "P-value: 0.24892988122145396\n",
            "Degrees of Freedom: 12543\n",
            "Expected Frequencies:\n",
            " [[0.00869565 0.00869565 0.00869565 ... 0.00869565 0.00869565 0.00869565]\n",
            " [0.00869565 0.00869565 0.00869565 ... 0.00869565 0.00869565 0.00869565]\n",
            " [0.00869565 0.00869565 0.00869565 ... 0.00869565 0.00869565 0.00869565]\n",
            " ...\n",
            " [0.00869565 0.00869565 0.00869565 ... 0.00869565 0.00869565 0.00869565]\n",
            " [0.00869565 0.00869565 0.00869565 ... 0.00869565 0.00869565 0.00869565]\n",
            " [0.00869565 0.00869565 0.00869565 ... 0.00869565 0.00869565 0.00869565]]\n",
            "\n",
            "Fail to reject the null hypothesis: There is no association between col1 and col2.\n"
          ]
        }
      ]
    },
    {
      "cell_type": "markdown",
      "source": [
        "finding the correleation between them\n"
      ],
      "metadata": {
        "id": "2lmC4okIeLDr"
      }
    },
    {
      "cell_type": "code",
      "source": [
        "# Ensure that both columns contain numeric data\n",
        "col1 = pd.to_numeric(col1, errors='coerce')\n",
        "col2 = pd.to_numeric(col2, errors='coerce')\n",
        "\n",
        "# Calculate Pearson correlation\n",
        "correlation = col1.corr(col2)\n",
        "\n",
        "# Print the result\n",
        "print(f\"Pearson Correlation between col1 (AP) and col2 (PE): {correlation}\")"
      ],
      "metadata": {
        "colab": {
          "base_uri": "https://localhost:8080/"
        },
        "id": "y72IyfcweSHH",
        "outputId": "322d158d-c117-46f8-9548-955c51521569"
      },
      "execution_count": 47,
      "outputs": [
        {
          "output_type": "stream",
          "name": "stdout",
          "text": [
            "Pearson Correlation between col1 (AP) and col2 (PE): 0.5958264542043844\n"
          ]
        }
      ]
    },
    {
      "cell_type": "markdown",
      "source": [
        "line of the rregresiion\n"
      ],
      "metadata": {
        "id": "6Y9ALMy1fJnO"
      }
    },
    {
      "cell_type": "code",
      "source": [
        "# Reshape col1 for regression model (needs to be 2D for sklearn)\n",
        "X = col1.values.reshape(-1, 1)\n",
        "y = col2.values\n",
        "\n",
        "# Fit a linear regression model\n",
        "model = LinearRegression()\n",
        "model.fit(X, y)\n",
        "\n",
        "# Get the slope (m) and intercept (b) of the regression line\n",
        "slope = model.coef_[0]\n",
        "intercept = model.intercept_\n",
        "print(f\"the slope of the line is {slope} and intersept of the line is{intercept}\")\n",
        "\n",
        "# Make predictions (regression line)\n",
        "y_pred = model.predict(X)\n",
        "\n",
        "# Plotting the scatter plot and regression line\n",
        "plt.figure(figsize=(10, 6))\n",
        "plt.scatter(col1, col2, color='blue', label='Data points')\n",
        "plt.plot(col1, y_pred, color='red', linewidth=2, label=f'Regression line: y = {slope:.2f}x + {intercept:.2f}')\n",
        "plt.xlabel('col1 (AP)')\n",
        "plt.ylabel('col2 (PE)')\n",
        "plt.title('Linear Regression: col1 vs col2')\n",
        "plt.legend()\n",
        "plt.grid(True)\n",
        "plt.show()\n",
        "\n",
        "# Print the regression equation\n",
        "print(f\"The regression line equation is: y = {slope:.2f}x + {intercept:.2f}\")"
      ],
      "metadata": {
        "colab": {
          "base_uri": "https://localhost:8080/",
          "height": 600
        },
        "id": "1FzutxBafMMf",
        "outputId": "5d459c63-5e7d-4c62-ff0d-d3e2ddee5c37"
      },
      "execution_count": 49,
      "outputs": [
        {
          "output_type": "stream",
          "name": "stdout",
          "text": [
            "the slope of the line is 1.7603490427541832 and intersept of the line is-1328.9326766797346\n"
          ]
        },
        {
          "output_type": "display_data",
          "data": {
            "text/plain": [
              "<Figure size 1000x600 with 1 Axes>"
            ],
            "image/png": "[encoded data removed]"
          },
          "metadata": {}
        },
        {
          "output_type": "stream",
          "name": "stdout",
          "text": [
            "The regression line equation is: y = 1.76x + -1328.93\n"
          ]
        }
      ]
    }
  ]
}